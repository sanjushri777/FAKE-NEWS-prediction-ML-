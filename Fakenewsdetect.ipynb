{
 "cells": [
  {
   "cell_type": "code",
   "execution_count": 1,
   "metadata": {},
   "outputs": [
    {
     "name": "stdout",
     "output_type": "stream",
     "text": [
      "Defaulting to user installation because normal site-packages is not writeable\n",
      "Requirement already satisfied: numpy<2 in c:\\users\\admin\\appdata\\roaming\\python\\python311\\site-packages (1.26.4)\n"
     ]
    }
   ],
   "source": [
    "!pip install \"numpy<2\"\n"
   ]
  },
  {
   "cell_type": "code",
   "execution_count": 1,
   "metadata": {},
   "outputs": [
    {
     "name": "stderr",
     "output_type": "stream",
     "text": [
      "C:\\Users\\admin\\AppData\\Roaming\\Python\\Python311\\site-packages\\pandas\\core\\arrays\\masked.py:60: UserWarning: Pandas requires version '1.3.6' or newer of 'bottleneck' (version '1.3.5' currently installed).\n",
      "  from pandas.core import (\n"
     ]
    },
    {
     "name": "stdout",
     "output_type": "stream",
     "text": [
      "Subjects in the dataset: ['real' 'fake']\n",
      "\n",
      "📊 Logistic Regression Model trained successfully with an accuracy of: 66.67%\n",
      "\n",
      "Classification Report (Precision, Recall, F1-Score):\n",
      "              precision    recall  f1-score   support\n",
      "\n",
      "        Fake       1.00      0.33      0.50         3\n",
      "        Real       0.60      1.00      0.75         3\n",
      "\n",
      "    accuracy                           0.67         6\n",
      "   macro avg       0.80      0.67      0.62         6\n",
      "weighted avg       0.80      0.67      0.62         6\n",
      "\n",
      "\n",
      "📰 Real-Time Fake News Detector\n",
      "Enter a news article or headline below to check if it's REAL or FAKE.\n",
      "Type 'exit' to quit.\n",
      "\n",
      "Enter news content: Politician claims Earth is flat in controversial speech\n",
      "🚨 This news is likely **FAKE** with 80.41% confidence!\n",
      "\n",
      "Enter news content: MR Narendra modi is indian\n",
      "✅ This news is likely **REAL** with 52.18% confidence!\n",
      "\n",
      "Enter news content: exit\n",
      "Exiting the Fake News Detector. Stay informed! 👋\n"
     ]
    }
   ],
   "source": [
    "import pandas as pd\n",
    "from sklearn.model_selection import train_test_split\n",
    "from sklearn.feature_extraction.text import CountVectorizer\n",
    "from sklearn.linear_model import LogisticRegression\n",
    "from sklearn.ensemble import RandomForestClassifier\n",
    "from sklearn.metrics import accuracy_score, classification_report\n",
    "import re\n",
    "\n",
    "\n",
    "def load_data():\n",
    "    return pd.read_csv(\"fake_news_dataset.csv\")  \n",
    "\n",
    "\n",
    "def preprocess_text(text):\n",
    "    text = text.lower()  \n",
    "    text = re.sub(r'\\s+', ' ', text)  \n",
    "    text = re.sub(r'[^\\w\\s]', '', text)  \n",
    "    return text\n",
    "\n",
    "\n",
    "df = load_data()\n",
    "df['news'] = df['news'].apply(preprocess_text)\n",
    "\n",
    "\n",
    "print(\"Subjects in the dataset:\", df['subject'].unique())\n",
    "\n",
    "X = df['news'] \n",
    "y = df['subject'].map({'fake': 0, 'real': 1})  \n",
    "\n",
    "\n",
    "X_train, X_test, y_train, y_test = train_test_split(X, y, test_size=0.2, random_state=42, stratify=y)\n",
    "\n",
    "\n",
    "vectorizer = CountVectorizer(max_features=5000, stop_words='english')\n",
    "X_train = vectorizer.fit_transform(X_train)\n",
    "X_test = vectorizer.transform(X_test)\n",
    "\n",
    "\n",
    "model = LogisticRegression(max_iter=1000, class_weight='balanced')  \n",
    "model.fit(X_train, y_train)\n",
    "\n",
    "\n",
    "predictions = model.predict(X_test)\n",
    "accuracy = accuracy_score(y_test, predictions)\n",
    "print(f\"\\n📊 Logistic Regression Model trained successfully with an accuracy of: {accuracy * 100:.2f}%\")\n",
    "print(\"\\nClassification Report (Precision, Recall, F1-Score):\")\n",
    "print(classification_report(y_test, predictions, target_names=['Fake', 'Real']))\n",
    "\n",
    "\n",
    "print(\"\\n📰 Real-Time Fake News Detector\")\n",
    "print(\"Enter a news article or headline below to check if it's REAL or FAKE.\")\n",
    "print(\"Type 'exit' to quit.\\n\")\n",
    "\n",
    "while True:\n",
    "    user_input = input(\"Enter news content: \").strip()\n",
    "    \n",
    "    if user_input.lower() == 'exit':\n",
    "        print(\"Exiting the Fake News Detector. Stay informed! 👋\")\n",
    "        break\n",
    "\n",
    "    if user_input:\n",
    "        vectorized_input = vectorizer.transform([user_input])\n",
    "        prediction = model.predict(vectorized_input)[0]\n",
    "        probability = model.predict_proba(vectorized_input)[0][prediction]  # Confidence score\n",
    "\n",
    "        if prediction == 1:\n",
    "            print(f\"✅ This news is likely **REAL** with {probability * 100:.2f}% confidence!\\n\")\n",
    "        else:\n",
    "            print(f\"🚨 This news is likely **FAKE** with {probability * 100:.2f}% confidence!\\n\")\n",
    "    else:\n",
    "        print(\"⚠️ Please enter some text to analyze!\\n\")\n"
   ]
  },
  {
   "cell_type": "code",
   "execution_count": null,
   "metadata": {},
   "outputs": [],
   "source": [
    "\n"
   ]
  },
  {
   "cell_type": "code",
   "execution_count": null,
   "metadata": {},
   "outputs": [],
   "source": []
  }
 ],
 "metadata": {
  "kernelspec": {
   "display_name": "Python 3 (ipykernel)",
   "language": "python",
   "name": "python3"
  },
  "language_info": {
   "codemirror_mode": {
    "name": "ipython",
    "version": 3
   },
   "file_extension": ".py",
   "mimetype": "text/x-python",
   "name": "python",
   "nbconvert_exporter": "python",
   "pygments_lexer": "ipython3",
   "version": "3.11.3"
  }
 },
 "nbformat": 4,
 "nbformat_minor": 2
}
